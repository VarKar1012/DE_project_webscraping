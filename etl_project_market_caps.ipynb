{
 "cells": [
  {
   "cell_type": "code",
   "execution_count": 7,
   "id": "9ee7a161-bd93-4d56-a2e2-94a1db9a23bb",
   "metadata": {},
   "outputs": [],
   "source": [
    "import pandas as pd\n",
    "import sqlite3 as sq"
   ]
  },
  {
   "cell_type": "code",
   "execution_count": 14,
   "id": "b7dbcc4b-b872-45cd-b97d-5f7e65572c6d",
   "metadata": {},
   "outputs": [],
   "source": [
    "from datetime import datetime\n",
    "\n",
    "def log_message(message):\n",
    "    timestamp_format = '%Y-%h-%d-%H:%M:%S'\n",
    "    now = datetime.now()\n",
    "    curr_time = now.strftime(timestamp_format)\n",
    "    with open('log.txt', 'a') as f:\n",
    "        f.write(curr_time+\"_ \"+message+ '\\n')"
   ]
  },
  {
   "cell_type": "code",
   "execution_count": 9,
   "id": "e100b228-2b78-4d8c-9f4f-97cd4a4cc054",
   "metadata": {},
   "outputs": [],
   "source": [
    "def extract_data(url):\n",
    "    try:\n",
    "        log_message('Extracting url begins')\n",
    "        table = pd.read_html(url)[0]\n",
    "        log_message('Extraction completed.')\n",
    "        return table\n",
    "    except Exception as e:\n",
    "        log_message('Extraction failed. '+str(e))"
   ]
  },
  {
   "cell_type": "code",
   "execution_count": 10,
   "id": "ed09bbf9-b918-432b-8ed8-e5b53beff905",
   "metadata": {},
   "outputs": [],
   "source": [
    "def transform_table(table):\n",
    "    try:\n",
    "        log_message('Transform operation begins')\n",
    "        table['market_caps_GBP'] = round(table['market_caps_USD'] * .76, 2)\n",
    "        table['market_caps_GBP'] = round(table['market_caps_USD'] * .91, 2)\n",
    "        table['market_caps_INR'] = round(table['market_caps_USD'] * 83.97, 2)\n",
    "        log_message('Transform operation completed')\n",
    "        return table  \n",
    "    except Exception as e:\n",
    "        log_message('Transform failed. '+str(e))"
   ]
  },
  {
   "cell_type": "code",
   "execution_count": 8,
   "id": "658fe659-3fd3-4d27-bd45-dc1f92a2863c",
   "metadata": {},
   "outputs": [],
   "source": [
    "def save_result(table):\n",
    "    log_message('Save operation begins')\n",
    "    path = 'path'\n",
    "    table.to_csv(path)\n",
    "    log_message('Save operation completed')"
   ]
  },
  {
   "cell_type": "code",
   "execution_count": 11,
   "id": "1ef2e0f1-efc0-4a62-b30d-fe8bc05055be",
   "metadata": {},
   "outputs": [],
   "source": [
    "def save_result_sql(table):\n",
    "    try:\n",
    "        log_message('Save operation of database table begins')\n",
    "        database_name = 'market_capitalization.db'\n",
    "        table_name = 'market_caps'\n",
    "        sql_conn = sq.Connect(database_name)\n",
    "    \n",
    "        table.to_sql(market_caps, sql_conn, if_exists='replace', index=True)\n",
    "        log_message('Save operation of database table completed')\n",
    "    except Exception as e:\n",
    "        log_message('Save operation of database failed. '+str(e))"
   ]
  },
  {
   "cell_type": "code",
   "execution_count": 12,
   "id": "ed45dd24-d51a-4bbb-878f-92e4eb4ca51e",
   "metadata": {},
   "outputs": [],
   "source": [
    "def run_queries(query):\n",
    "    try:\n",
    "        log_message('Running query operation begins')\n",
    "        database_name = 'market_capitalization.db'\n",
    "        sql_conn = sq.Connect(database_name)\n",
    "        table = pd.read_sql(query, sql_conn)\n",
    "        log_message('Running query operation completed')\n",
    "        return table\n",
    "    except Exception as e:\n",
    "        log_message('Running query operation failed. '+str(e))\n",
    "\n",
    "q1 = 'select Name, MC_GBP_Billion from market_caps where Name == \"London\"'\n",
    "q2 = 'select Name, MC_EUR_Billion from market_caps where Name == \"Berlin\"'\n",
    "q3 = 'select Name, MC_INR_Billion from market_caps where Name == \"Delhi\"'"
   ]
  },
  {
   "cell_type": "code",
   "execution_count": null,
   "id": "b5f1a744-a39a-4391-ac0d-6699aefbac8c",
   "metadata": {},
   "outputs": [],
   "source": []
  },
  {
   "cell_type": "code",
   "execution_count": null,
   "id": "cf054ea0-1a0a-44aa-98ae-0bd6f1a89960",
   "metadata": {},
   "outputs": [],
   "source": []
  },
  {
   "cell_type": "code",
   "execution_count": null,
   "id": "3ceeb3dc-f2a9-4e06-b074-edcc630c16e7",
   "metadata": {},
   "outputs": [],
   "source": []
  }
 ],
 "metadata": {
  "kernelspec": {
   "display_name": "Python 3 (ipykernel)",
   "language": "python",
   "name": "python3"
  },
  "language_info": {
   "codemirror_mode": {
    "name": "ipython",
    "version": 3
   },
   "file_extension": ".py",
   "mimetype": "text/x-python",
   "name": "python",
   "nbconvert_exporter": "python",
   "pygments_lexer": "ipython3",
   "version": "3.11.9"
  }
 },
 "nbformat": 4,
 "nbformat_minor": 5
}
